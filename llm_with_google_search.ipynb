{
  "cells": [
    {
      "cell_type": "code",
      "execution_count": null,
      "metadata": {
        "id": "9XbJHx272qDu"
      },
      "outputs": [],
      "source": [
        "! sudo pip install langchain\n",
        "!pip install transformers\n",
        "!pip install sentence-transformers\n",
        "! pip install langchainhub\n",
        "!pip install fireworks-ai"
      ]
    },
    {
      "cell_type": "code",
      "source": [
        "!pip install tavily-python"
      ],
      "metadata": {
        "colab": {
          "base_uri": "https://localhost:8080/"
        },
        "id": "1TAHQnsT1SaM",
        "outputId": "e2ddf2a3-c550-40f8-a9f0-bb9a0f68c9f3"
      },
      "execution_count": 21,
      "outputs": [
        {
          "output_type": "stream",
          "name": "stdout",
          "text": [
            "Successfully installed tavily-python-0.3.1 tiktoken-0.5.2\n"
          ]
        }
      ]
    },
    {
      "cell_type": "code",
      "execution_count": 22,
      "metadata": {
        "id": "QmEUdlcp277I"
      },
      "outputs": [],
      "source": [
        "import os"
      ]
    },
    {
      "cell_type": "code",
      "execution_count": 23,
      "metadata": {
        "id": "Ar6ym_m-3oQ8"
      },
      "outputs": [],
      "source": [
        "os.environ[\"SERPER_API_KEY\"] = \"0352d2e5f959885119862467e86d869cf049a882\"\n",
        "os.environ[\"FIREWORKS_API_KEY\"]=\"MFquDiEgc5gAGwSR3y2pGEFz600UXitDJLU1Cx4JTiTh7iw1\"\n",
        "os.environ[\"TAVILY_API_KEY\"]=\"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\""
      ]
    },
    {
      "cell_type": "markdown",
      "metadata": {
        "id": "8DcFlOze3M8T"
      },
      "source": [
        "How it works?"
      ]
    },
    {
      "cell_type": "code",
      "source": [
        "search=TavilyAnswer(max_results=1)"
      ],
      "metadata": {
        "id": "sJ4pmokA2bJh"
      },
      "execution_count": 25,
      "outputs": []
    },
    {
      "cell_type": "code",
      "source": [
        "search.run(\"which company acquired splunk\")"
      ],
      "metadata": {
        "colab": {
          "base_uri": "https://localhost:8080/",
          "height": 36
        },
        "id": "UHV97lv82e3b",
        "outputId": "ae434096-8c9c-475a-9038-a631c26b0f67"
      },
      "execution_count": 27,
      "outputs": [
        {
          "output_type": "execute_result",
          "data": {
            "text/plain": [
              "'Cisco acquired Splunk.'"
            ],
            "application/vnd.google.colaboratory.intrinsic+json": {
              "type": "string"
            }
          },
          "metadata": {},
          "execution_count": 27
        }
      ]
    },
    {
      "cell_type": "markdown",
      "metadata": {
        "id": "1uOB6b-44LQo"
      },
      "source": [
        "Integrating it with llm"
      ]
    },
    {
      "cell_type": "code",
      "execution_count": 6,
      "metadata": {
        "id": "BbwyCb0P5pKc"
      },
      "outputs": [],
      "source": [
        "from langchain import hub\n",
        "from langchain.agents import AgentExecutor, create_self_ask_with_search_agent\n",
        "from langchain_community.llms import Fireworks\n",
        "from langchain.agents import AgentType, Tool, initialize_agent\n",
        "from langchain_community.tools.tavily_search import TavilyAnswer"
      ]
    },
    {
      "cell_type": "code",
      "execution_count": 7,
      "metadata": {
        "id": "LYrC5ZXh3v8n",
        "colab": {
          "base_uri": "https://localhost:8080/"
        },
        "outputId": "a70a5b48-cbb9-4e8d-b39b-bc7986944997"
      },
      "outputs": [
        {
          "output_type": "stream",
          "name": "stderr",
          "text": [
            "/usr/local/lib/python3.10/dist-packages/langchain_core/_api/deprecation.py:117: LangChainDeprecationWarning: The class `langchain_community.llms.fireworks.Fireworks` was deprecated in langchain-community 0.0.26 and will be removed in 0.2. An updated version of the class exists in the langchain-fireworks package and should be used instead. To use it run `pip install -U langchain-fireworks` and import as `from langchain_fireworks import Fireworks`.\n",
            "  warn_deprecated(\n"
          ]
        }
      ],
      "source": [
        "llm = Fireworks()"
      ]
    },
    {
      "cell_type": "code",
      "execution_count": 19,
      "metadata": {
        "colab": {
          "base_uri": "https://localhost:8080/"
        },
        "id": "k3DLrGWQ5Via",
        "outputId": "97c01e28-d6d3-4c30-a061-0180feda879b"
      },
      "outputs": [
        {
          "output_type": "stream",
          "name": "stdout",
          "text": [
            "\n",
            "\n",
            "Splunk is a publicly-traded company, and as such, it has not been acquired by any other company. Splunk was founded in 2003 and went public in 2011. Since then, it has continued to operate as an independent company, with a strong focus on developing and providing its platform for data analytics and machine learning. While there have been some rumors and speculation about potential acquisition of Splunk by other companies, these have not materialized, and Splunk remains a standalone entity in the technology industry.\n"
          ]
        }
      ],
      "source": [
        "output = llm.invoke(\"which company acquired splunk?\")\n",
        "print(output)"
      ]
    },
    {
      "cell_type": "code",
      "execution_count": 17,
      "metadata": {
        "colab": {
          "base_uri": "https://localhost:8080/"
        },
        "id": "b4Xg4sElM8Vn",
        "outputId": "b416e66f-1e3f-4799-f2fc-9be637165842"
      },
      "outputs": [
        {
          "output_type": "stream",
          "name": "stdout",
          "text": [
            "\n",
            "\n",
            "\u001b[1m> Entering new AgentExecutor chain...\u001b[0m\n",
            "\u001b[32;1m\u001b[1;3m Yes.\n",
            "Follow up: Who is the CEO of Splunk?\u001b[0m\u001b[36;1m\u001b[1;3mSplunk's President, Chief Executive Officer and Board Member is Gary Steele. Splunk's key executives include Gary Steele and 19 others.\u001b[0m\u001b[32;1m\u001b[1;3m\n",
            "Follow up: Who is the CEO of the company that acquired Splunk?\u001b[0m\u001b[36;1m\u001b[1;3m\"We are thrilled to officially welcome Splunk to Cisco,\" said Chuck Robbins, Chair and CEO of Cisco. \"As one of the world's largest software companies, we will revolutionize the way our customers leverage data to connect and protect every aspect of their organization as we help power and protect the AI revolution.\"\u001b[0m\u001b[32;1m\u001b[1;3m\n",
            "So the final answer is: Cisco\u001b[0m\n",
            "\n",
            "\u001b[1m> Finished chain.\u001b[0m\n"
          ]
        },
        {
          "output_type": "execute_result",
          "data": {
            "text/plain": [
              "{'input': 'which company acquired splunk?', 'output': 'Cisco'}"
            ]
          },
          "metadata": {},
          "execution_count": 17
        }
      ],
      "source": [
        "from langchain import hub\n",
        "from langchain.agents import AgentExecutor, create_self_ask_with_search_agent\n",
        "from langchain_community.llms import Fireworks\n",
        "from langchain_community.tools.tavily_search import TavilyAnswer\n",
        "\n",
        "tools = [TavilyAnswer(max_results=1, name=\"Intermediate Answer\")]\n",
        "\n",
        "tools = [\n",
        "    Tool(\n",
        "        name=\"Intermediate Answer\",\n",
        "        func=search.run,\n",
        "        description=\"useful for when you need to ask with search\",\n",
        "    )\n",
        "]\n",
        "\n",
        "prompt = hub.pull(\"hwchase17/self-ask-with-search\")\n",
        "os.environ[\"FIREWORKS_API_KEY\"]=\"MFquDiEgc5gAGwSR3y2pGEFz600UXitDJLU1Cx4JTiTh7iw1\"\n",
        "# Choose the LLM that will drive the agent\n",
        "llm = Fireworks()\n",
        "\n",
        "# Construct the Self Ask With Search Agent\n",
        "agent = create_self_ask_with_search_agent(llm, tools, prompt)\n",
        "# Create an agent executor by passing in the agent and tools\n",
        "agent_executor = AgentExecutor(agent=agent, tools=tools, verbose=True)\n",
        "agent_executor.invoke(\n",
        "    {\"input\": \"which company acquired splunk?\"}\n",
        ")\n"
      ]
    }
  ],
  "metadata": {
    "colab": {
      "provenance": []
    },
    "kernelspec": {
      "display_name": "Python 3",
      "name": "python3"
    },
    "language_info": {
      "name": "python"
    }
  },
  "nbformat": 4,
  "nbformat_minor": 0
}