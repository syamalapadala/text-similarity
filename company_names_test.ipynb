{
  "nbformat": 4,
  "nbformat_minor": 0,
  "metadata": {
    "colab": {
      "provenance": []
    },
    "kernelspec": {
      "name": "python3",
      "display_name": "Python 3"
    },
    "language_info": {
      "name": "python"
    }
  },
  "cells": [
    {
      "cell_type": "code",
      "execution_count": null,
      "metadata": {
        "colab": {
          "base_uri": "https://localhost:8080/"
        },
        "id": "9P_T19h_csnJ",
        "outputId": "f5ebb5d7-40e6-4c31-806c-286eca9e1ccd"
      },
      "outputs": [
        {
          "output_type": "stream",
          "name": "stdout",
          "text": [
            "Successfully installed dataclasses-json-0.6.4 jsonpatch-1.33 jsonpointer-2.4 langchain-0.1.14 langchain-community-0.0.31 langchain-core-0.1.38 langchain-text-splitters-0.0.1 langsmith-0.1.38 marshmallow-3.21.1 mypy-extensions-1.0.0 orjson-3.10.0 packaging-23.2 typing-inspect-0.9.0\n"
          ]
        }
      ],
      "source": [
        "! pip install langchain"
      ]
    },
    {
      "cell_type": "code",
      "source": [
        "! pip install chromadb==0.4.15"
      ],
      "metadata": {
        "id": "GFS7Pjy1dn54"
      },
      "execution_count": null,
      "outputs": []
    },
    {
      "cell_type": "code",
      "source": [
        "! pip install sentence-transformers"
      ],
      "metadata": {
        "id": "GF_R4tl0k_Q5"
      },
      "execution_count": null,
      "outputs": []
    },
    {
      "cell_type": "code",
      "source": [
        "!pip install faiss-cpu"
      ],
      "metadata": {
        "id": "wKXTpczFmgJS"
      },
      "execution_count": null,
      "outputs": []
    },
    {
      "cell_type": "code",
      "source": [
        "from langchain_community.document_loaders.csv_loader import CSVLoader\n",
        "from langchain.embeddings import HuggingFaceEmbeddings\n",
        "from langchain.vectorstores import FAISS"
      ],
      "metadata": {
        "id": "vl2FL5-PjurZ"
      },
      "execution_count": null,
      "outputs": []
    },
    {
      "cell_type": "code",
      "source": [
        "loader = CSVLoader(file_path='/content/test_changes1.csv',source_column=\"company\")\n",
        "\n",
        "data = loader.load()"
      ],
      "metadata": {
        "id": "EpnDgwIndsgI"
      },
      "execution_count": null,
      "outputs": []
    },
    {
      "cell_type": "code",
      "source": [
        "data"
      ],
      "metadata": {
        "colab": {
          "base_uri": "https://localhost:8080/"
        },
        "id": "wbb2xyZ-jpiF",
        "outputId": "13a0b074-2ab9-4379-ee24-876994a0bfdc"
      },
      "execution_count": null,
      "outputs": [
        {
          "output_type": "execute_result",
          "data": {
            "text/plain": [
              "[Document(page_content='company: Alphabet', metadata={'source': 'Alphabet ', 'row': 0}),\n",
              " Document(page_content='company: Google', metadata={'source': 'Google', 'row': 1}),\n",
              " Document(page_content='company: Research In Motion', metadata={'source': 'Research In Motion', 'row': 2}),\n",
              " Document(page_content='company: BlackBerry Limited', metadata={'source': 'BlackBerry Limited', 'row': 3}),\n",
              " Document(page_content='company: Cadabra', metadata={'source': 'Cadabra ', 'row': 4}),\n",
              " Document(page_content='company: Amazon', metadata={'source': 'Amazon', 'row': 5}),\n",
              " Document(page_content='company: Blue Ribbon Sports', metadata={'source': 'Blue Ribbon Sports', 'row': 6}),\n",
              " Document(page_content='company: Nike Inc', metadata={'source': 'Nike Inc', 'row': 7}),\n",
              " Document(page_content=\"company: Brad's Drink\", metadata={'source': \"Brad's Drink\", 'row': 8}),\n",
              " Document(page_content='company: Pepsi-Cola', metadata={'source': 'Pepsi-Cola', 'row': 9})]"
            ]
          },
          "metadata": {},
          "execution_count": 26
        }
      ]
    },
    {
      "cell_type": "code",
      "source": [
        "# Define the path to the pre-trained model you want to use\n",
        "modelPath = \"sentence-transformers/all-MiniLM-l6-v2\"\n",
        "\n",
        "# Create a dictionary with model configuration options, specifying to use the CPU for computations\n",
        "model_kwargs = {'device':'cpu'}\n",
        "\n",
        "# Create a dictionary with encoding options, specifically setting 'normalize_embeddings' to False\n",
        "encode_kwargs = {'normalize_embeddings': False}\n",
        "\n",
        "# Initialize an instance of HuggingFaceEmbeddings with the specified parameters\n",
        "embeddings = HuggingFaceEmbeddings(\n",
        "    model_name=modelPath,     # Provide the pre-trained model's path\n",
        "    model_kwargs=model_kwargs, # Pass the model configuration options\n",
        "    encode_kwargs=encode_kwargs # Pass the encoding options\n",
        ")"
      ],
      "metadata": {
        "id": "e2bfs67Mj3Ix"
      },
      "execution_count": null,
      "outputs": []
    },
    {
      "cell_type": "code",
      "source": [
        "db = FAISS.from_documents(data, embeddings)"
      ],
      "metadata": {
        "id": "lL40hrtlkulB"
      },
      "execution_count": null,
      "outputs": []
    },
    {
      "cell_type": "code",
      "source": [
        "question = \"google\"\n",
        "searchDocs = db.similarity_search(question)\n",
        "print(searchDocs[1].page_content)"
      ],
      "metadata": {
        "colab": {
          "base_uri": "https://localhost:8080/"
        },
        "id": "Fq4DBwu8lemG",
        "outputId": "744576dc-a639-4e0b-a89b-11006d0574c0"
      },
      "execution_count": null,
      "outputs": [
        {
          "output_type": "stream",
          "name": "stdout",
          "text": [
            "company: Amazon\n"
          ]
        }
      ]
    },
    {
      "cell_type": "code",
      "source": [],
      "metadata": {
        "id": "qrBynaQHmwDa"
      },
      "execution_count": null,
      "outputs": []
    }
  ]
}