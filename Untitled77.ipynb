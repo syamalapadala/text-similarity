{
  "nbformat": 4,
  "nbformat_minor": 0,
  "metadata": {
    "colab": {
      "provenance": []
    },
    "kernelspec": {
      "name": "python3",
      "display_name": "Python 3"
    },
    "language_info": {
      "name": "python"
    }
  },
  "cells": [
    {
      "cell_type": "code",
      "execution_count": 8,
      "metadata": {
        "colab": {
          "base_uri": "https://localhost:8080/"
        },
        "id": "YA3C_TdGnCaL",
        "outputId": "0801d628-8a5f-424b-81aa-bb0dba317375"
      },
      "outputs": [
        {
          "output_type": "stream",
          "name": "stdout",
          "text": [
            "Requirement already satisfied: geopy in /usr/local/lib/python3.10/dist-packages (2.3.0)\n",
            "Requirement already satisfied: geographiclib<3,>=1.52 in /usr/local/lib/python3.10/dist-packages (from geopy) (2.0)\n"
          ]
        }
      ],
      "source": [
        "!pip install geopy"
      ]
    },
    {
      "cell_type": "code",
      "source": [
        "from geopy.geocoders import Nominatim\n",
        "geolocator = Nominatim(user_agent=\"location_app\")\n",
        "location = geolocator.geocode(\"175 5th Avenue NYC\")"
      ],
      "metadata": {
        "colab": {
          "base_uri": "https://localhost:8080/"
        },
        "id": "dds8JWN9nISK",
        "outputId": "6f5744db-005b-4518-fcf7-9f410e3fdb6a"
      },
      "execution_count": 9,
      "outputs": [
        {
          "output_type": "stream",
          "name": "stderr",
          "text": [
            "WARNING:urllib3.connectionpool:Retrying (Retry(total=1, connect=None, read=None, redirect=None, status=None)) after connection broken by 'ReadTimeoutError(\"HTTPSConnectionPool(host='nominatim.openstreetmap.org', port=443): Read timed out. (read timeout=1)\")': /search?q=175+5th+Avenue+NYC&format=json&limit=1\n",
            "WARNING:urllib3.connectionpool:Retrying (Retry(total=0, connect=None, read=None, redirect=None, status=None)) after connection broken by 'ReadTimeoutError(\"HTTPSConnectionPool(host='nominatim.openstreetmap.org', port=443): Read timed out. (read timeout=1)\")': /search?q=175+5th+Avenue+NYC&format=json&limit=1\n"
          ]
        }
      ]
    },
    {
      "cell_type": "code",
      "source": [
        "print((location.latitude, location.longitude))"
      ],
      "metadata": {
        "colab": {
          "base_uri": "https://localhost:8080/"
        },
        "id": "DvBOVkp_nSSh",
        "outputId": "24a1dcfa-8fda-4ac4-806a-05138d729ba3"
      },
      "execution_count": 10,
      "outputs": [
        {
          "output_type": "stream",
          "name": "stdout",
          "text": [
            "(40.741059199999995, -73.98964162240998)\n"
          ]
        }
      ]
    },
    {
      "cell_type": "code",
      "source": [
        "from geopy.distance import geodesic\n",
        "newport_ri = (41.49008, -71.312796)\n",
        "cleveland_oh = (41.499498, -81.695391)"
      ],
      "metadata": {
        "id": "I6uG_ZPBnWPq"
      },
      "execution_count": 11,
      "outputs": []
    },
    {
      "cell_type": "code",
      "source": [
        "print(geodesic(newport_ri, cleveland_oh).miles)"
      ],
      "metadata": {
        "colab": {
          "base_uri": "https://localhost:8080/"
        },
        "id": "quBmv-ILpZ5I",
        "outputId": "fd6d6f68-4832-4773-87fb-51c5ed971c0c"
      },
      "execution_count": 12,
      "outputs": [
        {
          "output_type": "stream",
          "name": "stdout",
          "text": [
            "538.3904453677203\n"
          ]
        }
      ]
    },
    {
      "cell_type": "code",
      "source": [
        "from geopy.distance import great_circle\n",
        "newport_ri = (41.49008, -71.312796)\n",
        "cleveland_oh = (41.499498, -81.695391)\n",
        "print(great_circle(newport_ri, cleveland_oh).miles)"
      ],
      "metadata": {
        "colab": {
          "base_uri": "https://localhost:8080/"
        },
        "id": "lOZlpXSRpcqR",
        "outputId": "1c580866-8eca-453a-e794-2c25cbda9608"
      },
      "execution_count": 13,
      "outputs": [
        {
          "output_type": "stream",
          "name": "stdout",
          "text": [
            "536.9979906964344\n"
          ]
        }
      ]
    },
    {
      "cell_type": "markdown",
      "source": [
        "### Documentation: https://geopy.readthedocs.io/en/stable/index.html"
      ],
      "metadata": {
        "id": "EjGryJuvrRmA"
      }
    },
    {
      "cell_type": "code",
      "source": [],
      "metadata": {
        "id": "G50mo93mqIAJ"
      },
      "execution_count": null,
      "outputs": []
    }
  ]
}