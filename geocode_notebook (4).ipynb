{
  "nbformat": 4,
  "nbformat_minor": 0,
  "metadata": {
    "colab": {
      "provenance": []
    },
    "kernelspec": {
      "name": "python3",
      "display_name": "Python 3"
    },
    "language_info": {
      "name": "python"
    }
  },
  "cells": [
    {
      "cell_type": "code",
      "execution_count": null,
      "metadata": {
        "colab": {
          "base_uri": "https://localhost:8080/"
        },
        "id": "YA3C_TdGnCaL",
        "outputId": "daa060f5-8ff0-4d7e-db1f-0fb6670ceee4"
      },
      "outputs": [
        {
          "output_type": "stream",
          "name": "stdout",
          "text": [
            "Requirement already satisfied: geopy in /usr/local/lib/python3.10/dist-packages (2.3.0)\n",
            "Requirement already satisfied: geographiclib<3,>=1.52 in /usr/local/lib/python3.10/dist-packages (from geopy) (2.0)\n"
          ]
        }
      ],
      "source": [
        "!pip install geopy"
      ]
    },
    {
      "cell_type": "code",
      "source": [
        "from geopy.geocoders import Nominatim\n",
        "from geopy.distance import great_circle"
      ],
      "metadata": {
        "id": "T8XUkBnl5OFv"
      },
      "execution_count": null,
      "outputs": []
    },
    {
      "cell_type": "code",
      "source": [
        "def get_co_ordinates(location):\n",
        "  geolocator = Nominatim(user_agent=\"location_app\")\n",
        "  location = geolocator.geocode(location)\n",
        "  return location.latitude, location.longitude"
      ],
      "metadata": {
        "id": "xb7dCU5n5XrS"
      },
      "execution_count": null,
      "outputs": []
    },
    {
      "cell_type": "code",
      "source": [
        "def get_geo_distance(coordinates_1,coordinates_2):\n",
        "  return great_circle(coordinates_1, coordinates_2).miles"
      ],
      "metadata": {
        "id": "ITMLB2Ns9-06"
      },
      "execution_count": 25,
      "outputs": []
    },
    {
      "cell_type": "code",
      "source": [
        "def cal_distance_between_locations(location_1,location_2):\n",
        "  coordinates_1=get_co_ordinates(location_1)\n",
        "  corodinates_2=get_co_ordinates(location_2)\n",
        "  return get_geo_distance(coordinates_1,corodinates_2)"
      ],
      "metadata": {
        "id": "lbqbKE5h-RSE"
      },
      "execution_count": 26,
      "outputs": []
    },
    {
      "cell_type": "code",
      "source": [
        "cal_distance_between_locations(\"Deccan park,Madhapur,Hyderabad\",\"Ikea,Hyderabad\")"
      ],
      "metadata": {
        "colab": {
          "base_uri": "https://localhost:8080/"
        },
        "id": "01QZnkva_UGo",
        "outputId": "927eb308-74f8-4c2f-f3b1-6f137424e660"
      },
      "execution_count": 27,
      "outputs": [
        {
          "output_type": "stream",
          "name": "stderr",
          "text": [
            "WARNING:urllib3.connectionpool:Retrying (Retry(total=1, connect=None, read=None, redirect=None, status=None)) after connection broken by 'ReadTimeoutError(\"HTTPSConnectionPool(host='nominatim.openstreetmap.org', port=443): Read timed out. (read timeout=1)\")': /search?q=Ikea%2CHyderabad&format=json&limit=1\n",
            "WARNING:urllib3.connectionpool:Retrying (Retry(total=0, connect=None, read=None, redirect=None, status=None)) after connection broken by 'ReadTimeoutError(\"HTTPSConnectionPool(host='nominatim.openstreetmap.org', port=443): Read timed out. (read timeout=1)\")': /search?q=Ikea%2CHyderabad&format=json&limit=1\n"
          ]
        },
        {
          "output_type": "execute_result",
          "data": {
            "text/plain": [
              "0.4237566189179393"
            ]
          },
          "metadata": {},
          "execution_count": 27
        }
      ]
    },
    {
      "cell_type": "code",
      "source": [
        "cal_distance_between_locations(\"Kinshasa ,DR Congo\",\"Brazzaville,Congo\")"
      ],
      "metadata": {
        "id": "CtaTihCpVSFS",
        "colab": {
          "base_uri": "https://localhost:8080/"
        },
        "outputId": "1403029b-29aa-4cd6-8a7a-fe7e30c64a64"
      },
      "execution_count": 28,
      "outputs": [
        {
          "output_type": "stream",
          "name": "stderr",
          "text": [
            "WARNING:urllib3.connectionpool:Retrying (Retry(total=1, connect=None, read=None, redirect=None, status=None)) after connection broken by 'ReadTimeoutError(\"HTTPSConnectionPool(host='nominatim.openstreetmap.org', port=443): Read timed out. (read timeout=1)\")': /search?q=Brazzaville%2CCongo&format=json&limit=1\n",
            "WARNING:urllib3.connectionpool:Retrying (Retry(total=0, connect=None, read=None, redirect=None, status=None)) after connection broken by 'ReadTimeoutError(\"HTTPSConnectionPool(host='nominatim.openstreetmap.org', port=443): Read timed out. (read timeout=1)\")': /search?q=Brazzaville%2CCongo&format=json&limit=1\n"
          ]
        },
        {
          "output_type": "execute_result",
          "data": {
            "text/plain": [
              "9.886658144249166"
            ]
          },
          "metadata": {},
          "execution_count": 28
        }
      ]
    },
    {
      "cell_type": "code",
      "source": [
        "cal_distance_between_locations(\"Niagara Falls, New York\",\"Niagara Falls, Ontario \")"
      ],
      "metadata": {
        "colab": {
          "base_uri": "https://localhost:8080/"
        },
        "id": "v8Fm2Qz_cbzt",
        "outputId": "f8606cd2-c3a1-456a-b3bb-6cd68d70aa75"
      },
      "execution_count": 29,
      "outputs": [
        {
          "output_type": "execute_result",
          "data": {
            "text/plain": [
              "1.5388078515956358"
            ]
          },
          "metadata": {},
          "execution_count": 29
        }
      ]
    },
    {
      "cell_type": "code",
      "source": [
        "cal_distance_between_locations(\"Detroit, Michigan (USA)\",\"Windsor, Ontario (Canada)\")"
      ],
      "metadata": {
        "colab": {
          "base_uri": "https://localhost:8080/"
        },
        "id": "-AYnDByNR7XV",
        "outputId": "374f0d52-18e3-47c0-8ed9-9326a5eb9626"
      },
      "execution_count": 30,
      "outputs": [
        {
          "output_type": "stream",
          "name": "stderr",
          "text": [
            "WARNING:urllib3.connectionpool:Retrying (Retry(total=1, connect=None, read=None, redirect=None, status=None)) after connection broken by 'ReadTimeoutError(\"HTTPSConnectionPool(host='nominatim.openstreetmap.org', port=443): Read timed out. (read timeout=1)\")': /search?q=Detroit%2C+Michigan+%28USA%29&format=json&limit=1\n"
          ]
        },
        {
          "output_type": "execute_result",
          "data": {
            "text/plain": [
              "1.1282858583905604"
            ]
          },
          "metadata": {},
          "execution_count": 30
        }
      ]
    }
  ]
}