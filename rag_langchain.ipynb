{
  "cells": [
    {
      "cell_type": "code",
      "execution_count": 17,
      "metadata": {
        "id": "lC9frDOlyi38"
      },
      "outputs": [],
      "source": [
        "!pip install -q torch transformers accelerate bitsandbytes transformers sentence-transformers faiss-gpu"
      ]
    },
    {
      "cell_type": "code",
      "execution_count": 18,
      "metadata": {
        "id": "-aYENQwZ-p_c"
      },
      "outputs": [],
      "source": [
        "# If running in Google Colab, you may need to run this cell to make sure you're using UTF-8 locale to install LangChain\n",
        "import locale\n",
        "locale.getpreferredencoding = lambda: \"UTF-8\""
      ]
    },
    {
      "cell_type": "code",
      "execution_count": 19,
      "metadata": {
        "id": "W5HhMZ2c-NfU"
      },
      "outputs": [],
      "source": [
        "!pip install -q langchain"
      ]
    },
    {
      "cell_type": "code",
      "source": [
        "! pip install chromadb==0.4.15"
      ],
      "metadata": {
        "id": "f15q2mq4BURP"
      },
      "execution_count": null,
      "outputs": []
    },
    {
      "cell_type": "code",
      "source": [
        "from langchain_community.document_loaders.csv_loader import CSVLoader\n",
        "from langchain.embeddings import HuggingFaceEmbeddings\n",
        "from langchain.vectorstores import FAISS\n",
        "from langchain.vectorstores import Chroma\n",
        "from langchain.llms import HuggingFaceHub\n",
        "from langchain.chains import RetrievalQA\n",
        "from transformers import AutoTokenizer, pipeline\n",
        "from langchain import HuggingFacePipeline\n",
        "from transformers import AutoTokenizer, AutoModelForQuestionAnswering"
      ],
      "metadata": {
        "id": "Y0eq0e5ZAZci"
      },
      "execution_count": 6,
      "outputs": []
    },
    {
      "cell_type": "code",
      "source": [
        "loader = CSVLoader(file_path='/content/test_vectordb.csv')\n",
        "\n",
        "data = loader.load()"
      ],
      "metadata": {
        "id": "eRPci1XP_T9T"
      },
      "execution_count": 7,
      "outputs": []
    },
    {
      "cell_type": "code",
      "source": [
        "data[0]"
      ],
      "metadata": {
        "colab": {
          "base_uri": "https://localhost:8080/"
        },
        "id": "jen7tvlMbFi-",
        "outputId": "47f27701-95bc-4879-92e6-4087d02fcb66"
      },
      "execution_count": 9,
      "outputs": [
        {
          "output_type": "execute_result",
          "data": {
            "text/plain": [
              "Document(page_content='\\ufeffCompany: Pfizer\\nAcquired: Seagen\\nDate(dd-mm-yyyy): 13-01-2024\\nValue (in billions USD): 43', metadata={'source': '/content/test_vectordb.csv', 'row': 0})"
            ]
          },
          "metadata": {},
          "execution_count": 9
        }
      ]
    },
    {
      "cell_type": "code",
      "source": [
        "# Define the path to the pre-trained model you want to use\n",
        "modelPath = \"sentence-transformers/all-MiniLM-l6-v2\"\n",
        "\n",
        "# Create a dictionary with model configuration options, specifying to use the CPU for computations\n",
        "model_kwargs = {'device':'cpu'}\n",
        "\n",
        "# Create a dictionary with encoding options, specifically setting 'normalize_embeddings' to False\n",
        "encode_kwargs = {'normalize_embeddings': False}\n",
        "\n",
        "# Initialize an instance of HuggingFaceEmbeddings with the specified parameters\n",
        "embeddings = HuggingFaceEmbeddings(\n",
        "    model_name=modelPath,     # Provide the pre-trained model's path\n",
        "    model_kwargs=model_kwargs, # Pass the model configuration options\n",
        "    encode_kwargs=encode_kwargs # Pass the encoding options\n",
        ")"
      ],
      "metadata": {
        "id": "fHiapttD_kS-"
      },
      "execution_count": null,
      "outputs": []
    },
    {
      "cell_type": "code",
      "source": [
        "vectordb = Chroma.from_documents(data,embeddings)"
      ],
      "metadata": {
        "id": "JYg2z7_l_ngX"
      },
      "execution_count": 11,
      "outputs": []
    },
    {
      "cell_type": "code",
      "source": [
        "query=\"which company acquired Abceutics\""
      ],
      "metadata": {
        "id": "yVGKhETh_sqZ"
      },
      "execution_count": 13,
      "outputs": []
    },
    {
      "cell_type": "code",
      "source": [
        "retriver=vectordb.as_retriever(search_type=\"mmr\",search_kwargs={\"k\":1})"
      ],
      "metadata": {
        "id": "UMAor5gajPMm"
      },
      "execution_count": 14,
      "outputs": []
    },
    {
      "cell_type": "code",
      "source": [
        "retriver.get_relevant_documents(query)"
      ],
      "metadata": {
        "colab": {
          "base_uri": "https://localhost:8080/"
        },
        "id": "zJpJ8tb7jYgE",
        "outputId": "791e0aba-af28-4cf7-84dd-4d0eedcb2c5a"
      },
      "execution_count": 15,
      "outputs": [
        {
          "output_type": "stream",
          "name": "stderr",
          "text": [
            "WARNING:chromadb.segment.impl.vector.local_hnsw:Number of requested results 20 is greater than number of elements in index 10, updating n_results = 10\n"
          ]
        },
        {
          "output_type": "execute_result",
          "data": {
            "text/plain": [
              "[Document(page_content='\\ufeffCompany: Merck\\nAcquired: Abceutics\\nDate(dd-mm-yyyy): 05-04-2024\\nValue (in billions USD): 0.2', metadata={'row': 5, 'source': '/content/test_vectordb.csv'})]"
            ]
          },
          "metadata": {},
          "execution_count": 15
        }
      ]
    },
    {
      "cell_type": "code",
      "execution_count": null,
      "metadata": {
        "id": "L-ggaa763VRo"
      },
      "outputs": [],
      "source": [
        "import torch\n",
        "from transformers import AutoTokenizer, AutoModelForCausalLM, BitsAndBytesConfig\n",
        "\n",
        "model_name = 'HuggingFaceH4/zephyr-7b-beta'\n",
        "\n",
        "bnb_config = BitsAndBytesConfig(\n",
        "    load_in_4bit=True,\n",
        "    bnb_4bit_use_double_quant=True,\n",
        "    bnb_4bit_quant_type=\"nf4\",\n",
        "    bnb_4bit_compute_dtype=torch.bfloat16\n",
        ")\n",
        "\n",
        "model = AutoModelForCausalLM.from_pretrained(model_name, quantization_config=bnb_config)\n",
        "tokenizer = AutoTokenizer.from_pretrained(model_name)"
      ]
    },
    {
      "cell_type": "markdown",
      "metadata": {
        "id": "hVNRJALyXYHG"
      },
      "source": [
        "## Setup the LLM chain"
      ]
    },
    {
      "cell_type": "code",
      "execution_count": null,
      "metadata": {
        "id": "cR0k1cRWz8Pm"
      },
      "outputs": [],
      "source": [
        "from langchain.llms import HuggingFacePipeline\n",
        "from langchain.prompts import PromptTemplate\n",
        "from transformers import pipeline\n",
        "from langchain_core.output_parsers import StrOutputParser\n",
        "\n",
        "text_generation_pipeline = pipeline(\n",
        "    model=model,\n",
        "    tokenizer=tokenizer,\n",
        "    task=\"text-generation\",\n",
        "    temperature=0.1,\n",
        "    do_sample=True,\n",
        "    repetition_penalty=1.1,\n",
        "    return_full_text=True,\n",
        "    max_new_tokens=400,\n",
        ")\n",
        "\n",
        "llm = HuggingFacePipeline(pipeline=text_generation_pipeline)\n",
        "\n",
        "prompt_template = \"\"\"\n",
        "<|system|>\n",
        "Answer the question based on your knowledge. Use the following context to help:\n",
        "\n",
        "{context}\n",
        "\n",
        "</s>\n",
        "<|user|>\n",
        "{question}\n",
        "</s>\n",
        "<|assistant|>\n",
        "\n",
        " \"\"\"\n",
        "\n",
        "prompt = PromptTemplate(\n",
        "    input_variables=[\"context\", \"question\"],\n",
        "    template=prompt_template,\n",
        ")\n",
        "\n",
        "llm_chain = prompt | llm | StrOutputParser()"
      ]
    },
    {
      "cell_type": "code",
      "execution_count": null,
      "metadata": {
        "id": "_rI3YNp9Xl4s"
      },
      "outputs": [],
      "source": [
        "from langchain_core.runnables import RunnablePassthrough\n",
        "\n",
        "# retriever = vectordb.as_retriever(search_kwargs={\"k\":5})\n",
        "retriever = vectordb.as_retriever(search_type=\"mmr\")\n",
        "\n",
        "rag_chain = (\n",
        " {\"context\": retriever, \"question\": RunnablePassthrough()}\n",
        "    | llm_chain\n",
        ")\n"
      ]
    },
    {
      "cell_type": "code",
      "execution_count": null,
      "metadata": {
        "id": "W7F07fQLXusU"
      },
      "outputs": [],
      "source": [
        "question = \"which company acquired Abceutics?\""
      ]
    },
    {
      "cell_type": "markdown",
      "metadata": {
        "id": "KC0rJYU1x1ir"
      },
      "source": [
        "First, let's see what kind of answer we can get with just the model itself, no context added:"
      ]
    },
    {
      "cell_type": "code",
      "execution_count": null,
      "metadata": {
        "colab": {
          "base_uri": "https://localhost:8080/",
          "height": 108
        },
        "id": "GYh-HG1l0De5",
        "outputId": "76a0ba66-7999-47fe-d333-fe23377b5b3a"
      },
      "outputs": [
        {
          "output_type": "stream",
          "name": "stderr",
          "text": [
            "Setting `pad_token_id` to `eos_token_id`:2 for open-end generation.\n"
          ]
        },
        {
          "output_type": "execute_result",
          "data": {
            "text/plain": [
              "'\\n<|system|>\\nAnswer the question based on your knowledge. Use the following context to help:\\n\\n\\n\\n</s>\\n<|user|>\\nwhich company acquired Abceutics?\\n</s>\\n<|assistant|>\\n\\n  According to the given context, there is no information provided about which company acquired Abceutics. The question seems to be incomplete or incorrect as it does not match with the available context. Please provide more details or clarify the question for me to answer accurately.'"
            ],
            "application/vnd.google.colaboratory.intrinsic+json": {
              "type": "string"
            }
          },
          "metadata": {},
          "execution_count": 16
        }
      ],
      "source": [
        "llm_chain.invoke({\"context\":\"\", \"question\": question})"
      ]
    },
    {
      "cell_type": "code",
      "execution_count": null,
      "metadata": {
        "colab": {
          "base_uri": "https://localhost:8080/",
          "height": 219
        },
        "id": "FZpNA3o10H10",
        "outputId": "83507ca2-5290-484d-9fd0-bd7570b406cb"
      },
      "outputs": [
        {
          "output_type": "stream",
          "name": "stderr",
          "text": [
            "WARNING:chromadb.segment.impl.vector.local_hnsw:Number of requested results 20 is greater than number of elements in index 10, updating n_results = 10\n",
            "Setting `pad_token_id` to `eos_token_id`:2 for open-end generation.\n"
          ]
        },
        {
          "output_type": "execute_result",
          "data": {
            "text/plain": [
              "\"\\n<|system|>\\nAnswer the question based on your knowledge. Use the following context to help:\\n\\n[Document(page_content='\\\\ufeffCompany: Merck\\\\nAcquired: Abceutics\\\\nDate: 05-04-2024\\\\nValue (in billions USD): 0.2', metadata={'row': 5, 'source': '/content/test_vectordb.csv'}), Document(page_content='\\\\ufeffCompany: Bristol Myers Squibb\\\\nAcquired: RayzeBio\\\\nDate: 05-01-2024\\\\nValue (in billions USD): 4.1', metadata={'row': 2, 'source': '/content/test_vectordb.csv'}), Document(page_content='\\\\ufeffCompany: Lonza\\\\nAcquired: Roche biologics manufacturing plant\\\\nDate: 19-03-2023\\\\nValue (in billions USD): Undisclosed', metadata={'row': 8, 'source': '/content/test_vectordb.csv'}), Document(page_content='\\\\ufeffCompany: Oruka Therapeutics\\\\nAcquired: ARCA Biopharma\\\\nDate: 03-04-2024\\\\nValue (in billions USD): Undisclosed', metadata={'row': 7, 'source': '/content/test_vectordb.csv'})]\\n\\n</s>\\n<|user|>\\nwhich company acquired Abceutics?\\n</s>\\n<|assistant|>\\n\\n  The company that acquired Abceutics is Merck, as mentioned in the page content provided. The date of acquisition is also provided, which is 05-04-2024.\""
            ],
            "application/vnd.google.colaboratory.intrinsic+json": {
              "type": "string"
            }
          },
          "metadata": {},
          "execution_count": 17
        }
      ],
      "source": [
        "rag_chain.invoke(question)"
      ]
    },
    {
      "cell_type": "markdown",
      "source": [],
      "metadata": {
        "id": "ryJY8AJ9NgAu"
      }
    },
    {
      "cell_type": "code",
      "source": [
        "question = \"list all the companies which got acquired in march 2024?\""
      ],
      "metadata": {
        "id": "l9erowRzJRW3"
      },
      "execution_count": null,
      "outputs": []
    },
    {
      "cell_type": "code",
      "source": [
        "rag_chain.invoke(question)"
      ],
      "metadata": {
        "colab": {
          "base_uri": "https://localhost:8080/",
          "height": 237
        },
        "id": "PQjj3yhiJZ1W",
        "outputId": "d13e2ac1-35f8-4173-d7de-538c8e5ada75"
      },
      "execution_count": null,
      "outputs": [
        {
          "output_type": "stream",
          "name": "stderr",
          "text": [
            "WARNING:chromadb.segment.impl.vector.local_hnsw:Number of requested results 20 is greater than number of elements in index 10, updating n_results = 10\n",
            "Setting `pad_token_id` to `eos_token_id`:2 for open-end generation.\n"
          ]
        },
        {
          "output_type": "execute_result",
          "data": {
            "text/plain": [
              "\"\\n<|system|>\\nAnswer the question based on your knowledge. Use the following context to help:\\n\\n[Document(page_content='\\\\ufeffCompany: Genmab\\\\nAcquired: ProfoundBio\\\\nDate: 03-04-2024\\\\nValue (in billions USD): 1.8', metadata={'row': 6, 'source': '/content/test_vectordb.csv'}), Document(page_content='\\\\ufeffCompany: Merck\\\\nAcquired: Abceutics\\\\nDate: 05-04-2024\\\\nValue (in billions USD): 0.2', metadata={'row': 5, 'source': '/content/test_vectordb.csv'}), Document(page_content='\\\\ufeffCompany: Exxon Mobil\\\\nAcquired: Pioneer Natural Resources\\\\nDate: 01-10-2023\\\\nValue (in billions USD): 59.5', metadata={'row': 9, 'source': '/content/test_vectordb.csv'}), Document(page_content='\\\\ufeffCompany: AstraZeneca\\\\nAcquired: Fusion\\\\nDate: 19-03-2023\\\\nValue (in billions USD): 2.4', metadata={'row': 4, 'source': '/content/test_vectordb.csv'})]\\n\\n</s>\\n<|user|>\\nlist all the companies which got acquired in march 2024?\\n</s>\\n<|assistant|>\\n\\n  Based on the provided context, there are no companies that got acquired in March 2024. The given list only includes acquisitions that occurred in previous years, with Genmab acquiring ProfoundBio in April 2024 and AstraZeneca acquiring Fusion in March 2023. No other acquisitions by any company are listed for March 2024.\""
            ],
            "application/vnd.google.colaboratory.intrinsic+json": {
              "type": "string"
            }
          },
          "metadata": {},
          "execution_count": 19
        }
      ]
    },
    {
      "cell_type": "code",
      "source": [
        "question = \"which acquisition has highest valuation?\""
      ],
      "metadata": {
        "id": "m6yu7xGpJbuo"
      },
      "execution_count": null,
      "outputs": []
    },
    {
      "cell_type": "code",
      "source": [
        "rag_chain.invoke(question)"
      ],
      "metadata": {
        "colab": {
          "base_uri": "https://localhost:8080/",
          "height": 274
        },
        "id": "6kROV7paJpmI",
        "outputId": "8020a610-30ba-4c05-ec07-e984ec70eea6"
      },
      "execution_count": null,
      "outputs": [
        {
          "output_type": "stream",
          "name": "stderr",
          "text": [
            "/usr/local/lib/python3.10/dist-packages/transformers/pipelines/base.py:1157: UserWarning: You seem to be using the pipelines sequentially on GPU. In order to maximize efficiency please use a dataset\n",
            "  warnings.warn(\n",
            "Setting `pad_token_id` to `eos_token_id`:2 for open-end generation.\n"
          ]
        },
        {
          "output_type": "execute_result",
          "data": {
            "text/plain": [
              "\"\\n<|system|>\\nAnswer the question based on your knowledge. Use the following context to help:\\n\\n[Document(page_content='\\\\ufeffCompany: Genmab\\\\nAcquired: ProfoundBio\\\\nDate: 03-04-2024\\\\nValue (in billions USD): 1.8', metadata={'row': 6, 'source': '/content/test_vectordb.csv'}), Document(page_content='\\\\ufeffCompany: Genmab\\\\nAcquired: ProfoundBio\\\\nDate: 03-04-2024\\\\nValue (in billions USD): 1.8', metadata={'row': 6, 'source': '/content/test_vectordb.csv'}), Document(page_content='\\\\ufeffCompany: Merck\\\\nAcquired: Abceutics\\\\nDate: 05-04-2024\\\\nValue (in billions USD): 0.2', metadata={'row': 5, 'source': '/content/test_vectordb.csv'}), Document(page_content='\\\\ufeffCompany: Merck\\\\nAcquired: Abceutics\\\\nDate: 05-04-2024\\\\nValue (in billions USD): 0.2', metadata={'row': 5, 'source': '/content/test_vectordb.csv'}), Document(page_content='\\\\ufeffCompany: Exxon Mobil\\\\nAcquired: Pioneer Natural Resources\\\\nDate: 01-10-2023\\\\nValue (in billions USD): 59.5', metadata={'row': 9, 'source': '/content/test_vectordb.csv'})]\\n\\n</s>\\n<|user|>\\nwhich acquisition has highest valuation?\\n</s>\\n<|assistant|>\\n\\n  Based on the given context, the acquisition with the highest valuation is Genmab's acquisition of ProfoundBio for a value of $1.8 billion as mentioned in two separate documents with row numbers 6 and 6 in the provided list. No other acquisition listed has a higher valuation.\""
            ],
            "application/vnd.google.colaboratory.intrinsic+json": {
              "type": "string"
            }
          },
          "metadata": {},
          "execution_count": 44
        }
      ]
    },
    {
      "cell_type": "code",
      "source": [],
      "metadata": {
        "id": "95DWkyS4JucN"
      },
      "execution_count": null,
      "outputs": []
    }
  ],
  "metadata": {
    "accelerator": "GPU",
    "colab": {
      "gpuType": "T4",
      "provenance": []
    },
    "kernelspec": {
      "display_name": "Python 3",
      "name": "python3"
    },
    "language_info": {
      "codemirror_mode": {
        "name": "ipython",
        "version": 3
      },
      "file_extension": ".py",
      "mimetype": "text/x-python",
      "name": "python",
      "nbconvert_exporter": "python",
      "pygments_lexer": "ipython3",
      "version": "3.11.3"
    }
  },
  "nbformat": 4,
  "nbformat_minor": 0
}